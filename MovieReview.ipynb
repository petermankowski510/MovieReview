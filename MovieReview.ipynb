{
 "cells": [
  {
   "cell_type": "code",
   "execution_count": 1,
   "metadata": {},
   "outputs": [
    {
     "data": {
      "text/plain": [
       "'# specifying the zip file name \\nfile_name = \"C:/Users/seeho/datasets/aclImdb/aclImdb.zip\"\\n  \\n# opening the zip file in READ mode \\nwith ZipFile(file_name, \\'r\\') as zip: \\n    # printing all the contents of the zip file \\n    zip.printdir() \\n  \\n    # extracting all the files \\n    print(\\'Extracting all the files now...\\') \\n    zip.extractall() \\n    print(\\'Done!\\') '"
      ]
     },
     "execution_count": 1,
     "metadata": {},
     "output_type": "execute_result"
    }
   ],
   "source": [
    "# https://medium.com/@romannempyre/sentiment-analysis-using-1d-convolutional-neural-networks-part-1-f8b6316489a2 \n",
    "from zipfile import ZipFile \n",
    "import os\n",
    "\n",
    "import tensorflow as tf\n",
    "from tensorflow import keras\n",
    "from tensorflow.keras import layers\n",
    "\n",
    "from pandas import DataFrame\n",
    "\n",
    "from tensorflow.keras.callbacks import EarlyStopping, ModelCheckpoint, LearningRateScheduler\n",
    "\n",
    "from tensorflow.keras.models import Sequential\n",
    "#from keras import layers\n",
    "\n",
    "import matplotlib.pyplot as plt\n",
    "\n",
    "from sklearn.preprocessing import LabelEncoder\n",
    "from sklearn.preprocessing import OneHotEncoder\n",
    "from tensorflow.keras.preprocessing.text import Tokenizer\n",
    "from tensorflow.keras.preprocessing.sequence import pad_sequences\n",
    "  \n",
    "\"\"\"# specifying the zip file name \n",
    "file_name = \"C:/Users/seeho/datasets/aclImdb/aclImdb.zip\"\n",
    "  \n",
    "# opening the zip file in READ mode \n",
    "with ZipFile(file_name, 'r') as zip: \n",
    "    # printing all the contents of the zip file \n",
    "    zip.printdir() \n",
    "  \n",
    "    # extracting all the files \n",
    "    print('Extracting all the files now...') \n",
    "    zip.extractall() \n",
    "    print('Done!') \"\"\""
   ]
  },
  {
   "cell_type": "code",
   "execution_count": 2,
   "metadata": {},
   "outputs": [
    {
     "data": {
      "text/plain": [
       "'2.1.0'"
      ]
     },
     "execution_count": 2,
     "metadata": {},
     "output_type": "execute_result"
    }
   ],
   "source": [
    "tf.__version__"
   ]
  },
  {
   "cell_type": "code",
   "execution_count": 4,
   "metadata": {},
   "outputs": [],
   "source": [
    "train_dir = 'C:/Users/seeho/datasets/aclImdb/aclImdb/train'\n",
    "\n",
    "labels = list()\n",
    "texts = list()\n",
    "\n",
    "# Processing the labels of the raw IMDB data\n",
    "for label_type in ['neg', 'pos']:\n",
    "    dir_name = os.path.join(train_dir, label_type)\n",
    "    for fname in os.listdir(dir_name):\n",
    "        if fname[-4:] == '.txt':\n",
    "            f = open(os.path.join(dir_name, fname), encoding=\"utf8\") # try that\n",
    "            texts.append(f.read())\n",
    "            f.close()\n",
    "            if label_type == 'neg':\n",
    "                labels.append(0)\n",
    "            else:\n",
    "                labels.append(1)"
   ]
  },
  {
   "cell_type": "code",
   "execution_count": 5,
   "metadata": {},
   "outputs": [
    {
     "data": {
      "text/plain": [
       "25000"
      ]
     },
     "execution_count": 5,
     "metadata": {},
     "output_type": "execute_result"
    }
   ],
   "source": [
    "len(texts)"
   ]
  },
  {
   "cell_type": "code",
   "execution_count": 6,
   "metadata": {},
   "outputs": [
    {
     "name": "stdout",
     "output_type": "stream",
     "text": [
      "Found 88582 unique tokens. \n",
      "Data Shape: (25000, 500)\n",
      "Shape of data tensor:  (25000, 500)\n",
      "Shape of label tensor:  (25000,)\n"
     ]
    }
   ],
   "source": [
    "import numpy as np\n",
    "\n",
    "# cut off reviews after 500 words\n",
    "max_len = 500 \n",
    "# train on 10000 samples\n",
    "training_samples = 10000\n",
    " # validate on 10000 samples \n",
    "validation_samples = 10000\n",
    "# consider only the top 10000 words\n",
    "max_words = 10000 \n",
    "\n",
    "# import tokenizer with the consideration for only the top 500 words\n",
    "tokenizer = Tokenizer(num_words=max_words) \n",
    "# fit the tokenizer on the texts\n",
    "tokenizer.fit_on_texts(texts) \n",
    "# convert the texts to sequences\n",
    "sequences = tokenizer.texts_to_sequences(texts) \n",
    "\n",
    "word_index = tokenizer.word_index\n",
    "print('Found %s unique tokens. ' % len(word_index))\n",
    "\n",
    " # pad the sequence to the required length to ensure uniformity\n",
    "data = pad_sequences(sequences, maxlen=max_len)\n",
    "print('Data Shape: {}'.format(data.shape))\n",
    "\n",
    "labels = np.asarray(labels)\n",
    "print(\"Shape of data tensor: \", data.shape)\n",
    "print(\"Shape of label tensor: \", labels.shape)\n",
    "\n",
    "# split the data into training and validation set but before that shuffle it first\n",
    "indices = np.arange(data.shape[0])\n",
    "np.random.shuffle(indices)\n",
    "data = data[indices]\n",
    "labels = labels[indices]\n",
    "\n",
    "x_train = data[:training_samples]\n",
    "y_train = labels[:training_samples]\n",
    "x_val = data[training_samples:training_samples + validation_samples]\n",
    "y_val = labels[training_samples:training_samples + validation_samples]\n",
    "\n",
    "# test_data\n",
    "x_test = data[training_samples+validation_samples:]\n",
    "y_test = labels[training_samples+validation_samples:]"
   ]
  },
  {
   "cell_type": "code",
   "execution_count": 7,
   "metadata": {},
   "outputs": [
    {
     "data": {
      "text/plain": [
       "array([0, 1, 1, 1, 1, 1, 0, 1, 1, 1])"
      ]
     },
     "execution_count": 7,
     "metadata": {},
     "output_type": "execute_result"
    }
   ],
   "source": [
    "labels[0:10]"
   ]
  },
  {
   "cell_type": "code",
   "execution_count": 9,
   "metadata": {},
   "outputs": [],
   "source": [
    "#from keras.callbacks import EarlyStopping, ModelCheckpoint, LearningRateScheduler\n",
    "\n",
    "callback_list = [\n",
    "    keras.callbacks.EarlyStopping(\n",
    "        patience=1,\n",
    "        monitor='acc',\n",
    "    ),\n",
    "\n",
    "    keras.callbacks.ModelCheckpoint(\n",
    "        monitor='val_loss',\n",
    "        save_best_only=True,\n",
    "        filepath='model/',\n",
    "    ),\n",
    "\n",
    "    keras.callbacks.ReduceLROnPlateau(\n",
    "        patience=1,\n",
    "        factor=0.1,\n",
    "    )\n",
    "]"
   ]
  },
  {
   "cell_type": "code",
   "execution_count": 10,
   "metadata": {},
   "outputs": [],
   "source": [
    "#from keras.layers import Embedding,Conv1D,MaxPooling1D\n",
    "#from keras.models import Sequential\n",
    "\n",
    "# model developing\n",
    "#text_input_layer = keras.Input(shape=(500,))\n",
    "#embedding_layer = layers.Embedding(max_words, 50)(text_input_layer)\n"
   ]
  },
  {
   "cell_type": "code",
   "execution_count": 11,
   "metadata": {},
   "outputs": [
    {
     "name": "stdout",
     "output_type": "stream",
     "text": [
      "Model: \"model\"\n",
      "_________________________________________________________________\n",
      "Layer (type)                 Output Shape              Param #   \n",
      "=================================================================\n",
      "input_1 (InputLayer)         [(None, 500)]             0         \n",
      "_________________________________________________________________\n",
      "embedding (Embedding)        (None, 500, 50)           500000    \n",
      "_________________________________________________________________\n",
      "conv1d (Conv1D)              (None, 498, 256)          38656     \n",
      "_________________________________________________________________\n",
      "max_pooling1d (MaxPooling1D) (None, 166, 256)          0         \n",
      "_________________________________________________________________\n",
      "conv1d_1 (Conv1D)            (None, 164, 256)          196864    \n",
      "_________________________________________________________________\n",
      "max_pooling1d_1 (MaxPooling1 (None, 54, 256)           0         \n",
      "_________________________________________________________________\n",
      "conv1d_2 (Conv1D)            (None, 52, 256)           196864    \n",
      "_________________________________________________________________\n",
      "max_pooling1d_2 (MaxPooling1 (None, 17, 256)           0         \n",
      "_________________________________________________________________\n",
      "conv1d_3 (Conv1D)            (None, 15, 256)           196864    \n",
      "_________________________________________________________________\n",
      "max_pooling1d_3 (MaxPooling1 (None, 5, 256)            0         \n",
      "_________________________________________________________________\n",
      "conv1d_4 (Conv1D)            (None, 3, 256)            196864    \n",
      "_________________________________________________________________\n",
      "max_pooling1d_4 (MaxPooling1 (None, 1, 256)            0         \n",
      "_________________________________________________________________\n",
      "global_max_pooling1d (Global (None, 256)               0         \n",
      "_________________________________________________________________\n",
      "dense (Dense)                (None, 256)               65792     \n",
      "_________________________________________________________________\n",
      "dense_1 (Dense)              (None, 1)                 257       \n",
      "=================================================================\n",
      "Total params: 1,392,161\n",
      "Trainable params: 1,392,161\n",
      "Non-trainable params: 0\n",
      "_________________________________________________________________\n"
     ]
    }
   ],
   "source": [
    "from tensorflow.keras.layers import Embedding,Conv1D,MaxPooling1D,GlobalMaxPooling1D,Dense\n",
    "#from tf.keras.models import Sequential\n",
    "from tensorflow.keras.optimizers import RMSprop\n",
    "# model developing\n",
    "text_input_layer = keras.Input(shape=(500,))\n",
    "embedding_layer = layers.Embedding(max_words, 50)(text_input_layer)\n",
    "text_layer = Conv1D(256, 3, activation='relu')(embedding_layer)\n",
    "text_layer = MaxPooling1D(3)(text_layer)\n",
    "text_layer = Conv1D(256, 3, activation='relu')(text_layer)\n",
    "text_layer = MaxPooling1D(3)(text_layer)\n",
    "text_layer = Conv1D(256, 3, activation='relu')(text_layer)\n",
    "text_layer = MaxPooling1D(3)(text_layer)\n",
    "text_layer = Conv1D(256, 3, activation='relu')(text_layer)\n",
    "text_layer = MaxPooling1D(3)(text_layer)\n",
    "text_layer = Conv1D(256, 3, activation='relu')(text_layer)\n",
    "text_layer = MaxPooling1D(3)(text_layer)\n",
    "text_layer = GlobalMaxPooling1D()(text_layer)\n",
    "text_layer = Dense(256, activation='relu')(text_layer)\n",
    "output_layer = Dense(1, activation='sigmoid')(text_layer)\n",
    "model = keras.Model(text_input_layer, output_layer)\n",
    "model.summary()\n",
    "model.compile(optimizer=RMSprop(lr=0.001),\n",
    "              loss='binary_crossentropy',\n",
    "              metrics=['acc'])"
   ]
  },
  {
   "cell_type": "code",
   "execution_count": 12,
   "metadata": {},
   "outputs": [
    {
     "name": "stdout",
     "output_type": "stream",
     "text": [
      "Train on 10000 samples, validate on 10000 samples\n",
      "Epoch 1/10\n",
      " 9984/10000 [============================>.] - ETA: 0s - loss: 0.6943 - acc: 0.5056WARNING:tensorflow:From C:\\Users\\seeho\\Anaconda3\\lib\\site-packages\\tensorflow_core\\python\\ops\\resource_variable_ops.py:1786: calling BaseResourceVariable.__init__ (from tensorflow.python.ops.resource_variable_ops) with constraint is deprecated and will be removed in a future version.\n",
      "Instructions for updating:\n",
      "If using Keras pass *_constraint arguments to layers.\n",
      "INFO:tensorflow:Assets written to: model/assets\n",
      "10000/10000 [==============================] - 106s 11ms/sample - loss: 0.6943 - acc: 0.5050 - val_loss: 0.6934 - val_acc: 0.4985\n",
      "Epoch 2/10\n",
      " 9984/10000 [============================>.] - ETA: 0s - loss: 0.6514 - acc: 0.5995INFO:tensorflow:Assets written to: model/assets\n",
      "10000/10000 [==============================] - 102s 10ms/sample - loss: 0.6510 - acc: 0.5999 - val_loss: 0.5706 - val_acc: 0.7602\n",
      "Epoch 3/10\n",
      "10000/10000 [==============================] - 101s 10ms/sample - loss: 0.4228 - acc: 0.8257 - val_loss: 0.7166 - val_acc: 0.7206\n",
      "Epoch 4/10\n",
      " 9984/10000 [============================>.] - ETA: 0s - loss: 0.2291 - acc: 0.9142INFO:tensorflow:Assets written to: model/assets\n",
      "10000/10000 [==============================] - 101s 10ms/sample - loss: 0.2291 - acc: 0.9142 - val_loss: 0.3465 - val_acc: 0.8632\n",
      "Epoch 5/10\n",
      "10000/10000 [==============================] - 100s 10ms/sample - loss: 0.1935 - acc: 0.9276 - val_loss: 0.3540 - val_acc: 0.8648\n",
      "Epoch 6/10\n",
      "10000/10000 [==============================] - 99s 10ms/sample - loss: 0.1745 - acc: 0.9367 - val_loss: 0.3477 - val_acc: 0.8649\n",
      "Epoch 7/10\n",
      "10000/10000 [==============================] - 101s 10ms/sample - loss: 0.1722 - acc: 0.9366 - val_loss: 0.3476 - val_acc: 0.8653\n"
     ]
    }
   ],
   "source": [
    "history = model.fit(x_train, y_train, epochs=10, batch_size=128, callbacks=callback_list,\n",
    "                    validation_data=(x_val, y_val))"
   ]
  },
  {
   "cell_type": "code",
   "execution_count": null,
   "metadata": {},
   "outputs": [],
   "source": [
    "# model.save('model/best_mode.h5') "
   ]
  },
  {
   "cell_type": "code",
   "execution_count": 13,
   "metadata": {},
   "outputs": [],
   "source": [
    "# save the tokenizer\n",
    "tokenizer_path=\"tokenizer\"\n",
    "import pickle as pk\n",
    "with open(os.path.join(tokenizer_path, 'tokenizer_m1.pickle'), 'wb') as handle:\n",
    "    pk.dump(tokenizer, handle, protocol=pk.HIGHEST_PROTOCOL)"
   ]
  },
  {
   "cell_type": "code",
   "execution_count": 14,
   "metadata": {},
   "outputs": [],
   "source": [
    "\"\"\"Also, during training, we were able to save the best model obtained as “movie_sentiment_m1.h5”\n",
    "in a directory called model. \"\"\"\n",
    "tokenizer_path = 'tokenizer'\n",
    "model_path = 'model'\n",
    "model_file = os.path.join(model_path, '')\n",
    "tokenizer_file = os.path.join(tokenizer_path, 'tokenizer_m1.pickle')\n",
    "model = tf.keras.models.load_model(model_file)\n",
    "\n",
    "# load tokenizer\n",
    "with open(tokenizer_file, 'rb') as handle:\n",
    "    tokenizer = pk.load(handle)"
   ]
  },
  {
   "cell_type": "code",
   "execution_count": 15,
   "metadata": {},
   "outputs": [],
   "source": [
    "\"\"\"With our model and tokenizer at hand, we will then go ahead and write a simple script to score our text samples\n",
    "(found in the test_dir folder in github repository).\n",
    "Although scoring the text samples is pretty straight forward, we would like to write a simple script which will\n",
    "enable us accept text content as a simple string data, a list of strings, a file containing the text to be scored,\n",
    "and a directory containing a number of text files with texts to be scored in them.\"\"\"\n",
    "\n",
    "def review_rating(score, decoded_review):\n",
    "    if float(score) >= 0.9:\n",
    "        print('Review: {}\\nSentiment: Strongly Positive\\nScore: {}'.format(decoded_review, score))\n",
    "    elif float(score) >= 0.7 and float(score) < 0.9:\n",
    "        print('Review: {}\\nSentiment: Positive\\nScore: {}'.format(decoded_review, score))\n",
    "    elif float(score) >= 0.5 and float(score) < 0.7:\n",
    "        print('Review: {}\\nSentiment: Okay\\nScore: {}'.format(decoded_review, score))\n",
    "    else:\n",
    "        print('Review: {}\\nSentiment: Negative\\nScore: {}'.format(decoded_review, score))\n",
    "    print('\\n\\n')"
   ]
  },
  {
   "cell_type": "code",
   "execution_count": 16,
   "metadata": {},
   "outputs": [],
   "source": [
    "def decode_review(text_list):\n",
    "    word_index = tokenizer.word_index\n",
    "    sequences = tokenizer.texts_to_sequences(text_list)\n",
    "    data = pad_sequences(sequences, maxlen=500)\n",
    "\n",
    "    # decode the words\n",
    "    reverse_word_index = dict([(value, key) for (key, value) in word_index.items()])\n",
    "    decoded_review = ' '.join([reverse_word_index.get(i, '?') for i in sequences[0]])\n",
    "    return decoded_review, data"
   ]
  },
  {
   "cell_type": "code",
   "execution_count": 17,
   "metadata": {},
   "outputs": [],
   "source": [
    "\"\"\"Finally, we add the last method which will accept the data in various formats. \n",
    "This method will take the source of the text and the type of file (if its a file or a directory of files) as arguments.\n",
    "We then process them according to the source. \"\"\"\n",
    "\n",
    "def score_review(source=None, file_type=None):\n",
    "    '''\n",
    "    source: the text, as either a string or a list of strings\n",
    "    file_type: (str): indicating whether we expecting a file containing the\n",
    "    text data or a directory containing a list files holding the text\n",
    "    options: 'file' or 'dir'\n",
    "    '''\n",
    "    \n",
    "    reviewScores=[]\n",
    "    text_list = list()\n",
    "    if isinstance(source, str) and file_type is None:\n",
    "        text_list.append(source)\n",
    "        decoded_review, data = decode_review(text_list)\n",
    "        # make prediction\n",
    "        score = model.predict(data)[0][0]\n",
    "        review_rating(score, decoded_review)\n",
    "        reviewScores.append(score)\n",
    "        \n",
    "    if isinstance(source, list) and file_type is None:\n",
    "        for item in source:\n",
    "            text_list = list()\n",
    "            text_list.append(item)\n",
    "            decoded_review, data = decode_review(text_list)\n",
    "            score = model.predict(data)[0][0]\n",
    "            review_rating(score, decoded_review)\n",
    "            reviewScores.append(score)\n",
    "        \n",
    "    \n",
    "    if isinstance(source, str) and file_type == 'file':\n",
    "        file_data = open(source).read()\n",
    "        text_list.append(file_data)\n",
    "        decoded_review, data = decode_review(text_list)\n",
    "        # make prediction\n",
    "        score = model.predict(data)[0][0]\n",
    "        review_rating(score, decoded_review)\n",
    "        reviewScores.append(score)\n",
    "        \n",
    "    \n",
    "    if isinstance(source, str) and file_type == 'dir':\n",
    "        file_content_holder = list()\n",
    "        for fname in os.listdir(source):\n",
    "            if fname[-4:] == '.txt':\n",
    "                f = open(os.path.join(source, fname))\n",
    "                file_content_holder.append(f.read())\n",
    "                f.close()\n",
    "        for item in file_content_holder:\n",
    "            text_list = list()\n",
    "            text_list.append(item)\n",
    "            decoded_review, data = decode_review(text_list)\n",
    "            score = model.predict(data)[0][0]\n",
    "            review_rating(score, decoded_review)\n",
    "            reviewScores.append(score)\n",
    "        \n",
    "            \n",
    "    return reviewScores       \n",
    "            "
   ]
  },
  {
   "cell_type": "code",
   "execution_count": 18,
   "metadata": {},
   "outputs": [
    {
     "name": "stdout",
     "output_type": "stream",
     "text": [
      "Review: i went and saw this movie last night after being to by a few friends of mine i'll admit that i was reluctant to see it because from what i knew of he was only able to do comedy i was wrong played the character of jake very well and kevin played ben randall with such the sign of a good movie is that it can toy with our emotions this one did exactly that the entire theater which was sold out was overcome by awesome laughter during the first half of the movie and were moved to tears during the second half while great and the theater i not only saw many women in tears but many full grown men as well trying desperately not to let anyone see them crying this movie was great and i suggest that you go see it before you judge\n",
      "Sentiment: Strongly Positive\n",
      "Score: 0.9921481013298035\n",
      "\n",
      "\n",
      "\n",
      "Review: market is negative and i hate it bad service and horrible movie\n",
      "Sentiment: Okay\n",
      "Score: 0.5825798511505127\n",
      "\n",
      "\n",
      "\n",
      "Review: years ago when darling played on tv it was always the pan and version which i hated and decided to wait and see the film in its proper widescreen format so when i saw an dvd of this julie andrews blake i decided to purchase and watch it once and for all br br boy what a terrible film it's so bad and on so many levels that i really do not know where to start in describing where and when it goes so horribly wrong looking at it now it's obvious to any fans of movies that blake created this star vehicle for his wife simply because so many other directors had struck gold with andrews in musicals mary sound of music thoroughly modern etc but also because andrews was from starring in projects made famous on stage by julie herself my fair lady etc because hollywood thought she wasn't sexy or glamorous enough so blake created this effort to showcase his wife in a bizarre of spy story war movie romance slapstick comedy musical darling suffers from multiple personalities never knowing who or what it is some specific scenes are good or effective but as a whole it just doesn't work at all to a point of it being very embarrassing br br mind you the version on the dvd is the director's cut or in this case let's salvage whatever we can from this notorious box office flop in releasing the dvd cut 19 scenes 19 from the original theatrical version into this more and yet remarkably version the film moves along with no idea of what it is we are 25 minutes into it and we still don't know what's going on or why we're watching what's going what kind of spy is how powerful is she was she ever responsible for someone's death instead we watch a thoroughly bored looking rock hudson trying to woo a thoroughly bored looking julie andrews things aren't helped much with the inexplicable reason why the two fall in love why does julie fall for hudson why him and not other men she got involved with there should have been one of her ex hanging around trying to win her back or trying to her secret this would have given us some much needed contrast to the muddled action it would also have given us some to the proceedings there's no in this story br br one only has to look at the cut scenes to clearly see that and the writer just came up with ideas inspired by and previous the best or worst example is the scene when andrews and hudson follows a group of children who sing in the middle of a forest sound of music it's no wonder he removed it from the dvd back in 1970 that scene might have worked on a certain level but today that moment of desperation there are other plot elements directly inspired by andrews other films the endless scenes of is inspired by the much better modern the musical moment i'll give you three was created just to make fun of mary persona which is turned raunchy with julie doing a in the act the ending eye view of julie running towards plane is another at sound of music br br the whole thing is confusing julie plays a singer born from a german father and british mother who lives in england but sings her english songs in paris you never know exactly where the story takes place some moments are just badly edited like when julie and her uncle are on they talk and talk and then julie suddenly off in mid sentence i'm like what happened here br br the comedy bits are unfunny and cringe worthy every scene with the french police are pathetic where's peter sellers when you really need him the action is stupid beyond belief when julie and her uncle are on their way to germany on that train shoots rounds of bullets at the train almost killing in the process brilliant what's also funny about that scene is the two leave on the train in the middle of the night but hudson and his reach the train even though they fly off the next morning that's one slow moving train there br br the musical moments the beginning is the best part of the entire film and the reason i gave this film 3 stars but it's effect is considerably because it's repeated at the end speaking of redundant did we really need to see a can can dance scene and julie too the girl in no man's land is ok even if it's bleeding obvious but that moment just doesn't make any sense whatsoever because sings it to a group of injured soldiers at a french hospital making me wonder how many soldiers there were injured by the result of her br br the whole project is and without energy the romance is 100 unbelievable rock hudson is way too old and tired looking check out the museum scene julie looks like she's on but what really kills this ill conceived project is julie playing a german spy desperately wanted to the mary syndrome his wife and believed that playing a was a good career decision as much as i like julie she's no greta garbo who pulled it off so beautifully in funny enough even if julie plays a german spy she still comes across as and cute br br how bad is darling even after years since its release blake felt he still needed to work on it for its dvd release\n",
      "Sentiment: Negative\n",
      "Score: 0.2017522156238556\n",
      "\n",
      "\n",
      "\n",
      "Review: if you had asked me how the movie was throughout the film i would have told you it was great however i left the theatre feeling after thinking a little about it i believe the problem was the pace of the ending i feel that the majority of the movie moved kind of slow and then the ending developed very fast so i would say the ending left me disappointed br br i thought that the characters were well developed and both portrayed their roles very well yes can act also the different relationships between the characters seemed very real furthermore i thought that the different plot lines were well developed overall it was a good movie and i would recommend seeing it br br in conclusion good characters great plot poorly written edited ending still go see it\n",
      "Sentiment: Positive\n",
      "Score: 0.887904167175293\n",
      "\n",
      "\n",
      "\n",
      "Review: julie andrews her own two shoes image in this musical comedy drama but if she approaches her role with she's alone in doing so blake film about a woman who is both music hall entertainer and german spy during wwi doesn't know what tone to aim for and rock hudson has the task of playing romantic second musicals had grown out of favor by 1970 and productions like star and this film really reputation leaving a lot of dead space in her until the seed came along i've always thought julie andrews would've made a great villain or shady lady her strong voice could really command attention and she hits some low notes that can either be or seductive husband director seems to realize this but neither he nor julie can work up much energy within this scenario screenwriter william peter isn't a good partner for and neither man has his heart in this material script offers andrews just one fabulous sequence a 1 2 from\n",
      "Sentiment: Okay\n",
      "Score: 0.6707106828689575\n",
      "\n",
      "\n",
      "\n",
      "Review: i was looking forward to the guardian but when i walked into the theater i wasn't really in the mood for it at that particular time it's kind of like the garden i like it but i have to be in the right mindset to thoroughly enjoy it br br i'm not exactly sure what was my spirit the trailers looked good but the water theme was giving me bad flashbacks to the last kevin movie that dealt with the subject plus despite the promise showed in the effect i'm still not completely sold on him something about the guy just me probably has to do with his features br br it took approximately two minutes for my fears to and for my to slip away the movie immediately throws us into the midst of a tense rescue mission and i was than kenny orange face lift my concerns briefly at initial appearance due to the fact that too much effort was made to paint him as ridiculously cool and rebellious a tough guy in his mouth and a make george clooney proud yeah we get it i was totally ready to hate him br br but then he had to go and deliver a fairly strong performance and force me to my br br darn you ape man mixing tense exciting rescue scenes drama humor and solid acting the guardian is easily a film that i dare say the majority of audiences will enjoy you can about its predictability and rare moments of but none of that takes away from the entertainment value br br i had a bad feeling that the pace would slow too much when started training the young guys but on the contrary the training sessions just might be the most interesting aspect of the film coast guard rescue are heroes whose stories have never really been portrayed on the big screen so i feel the inside look at what they go through and how tough it is to make it is very informative and a great way to introduce audiences to this under appreciated group br br do you have what it takes to be a rescue just think about it you get to go on dangerous missions in cold dark rough water and then you must fight and a lack of all while trying to help stranded people who are depending on you for their survival and if all that isn't bad enough sometimes you can't save everybody so you have to make the tough decision of who lives and who dies br br man who wants all that responsibility not me i had no idea what it was really like for these guys and who would have thought i'd have an kevin movie to thank for the education br br not only does the guardian do a great job of paying tribute to this rare breed of hero but lucky for us it also does a good job of entertaining its paying customers br br the br br wanting an inside look at what it's like to on a daring rescue mission in the middle of the ocean might want to give the guardian a chance i saw it for free but had i paid i would've felt i had gotten my worth\n",
      "Sentiment: Positive\n",
      "Score: 0.7579041123390198\n",
      "\n",
      "\n",
      "\n",
      "Review: blake tried very hard to change julie andrews image in this film he tried to make her sexy not realizing she already was i think they were both still a bit that julie had not been chosen to film her broadway success of and was passed over as not being sexy enough unfortunately they chose this vehicle to try and this belief it gets to the point where it is almost funny seeing rock hudson who we all know now was gay kissing julie every 2 minutes throughout this movie it seems now that they were not only trying to make you believe that julie was a femme fatale but that rock was straight sadly they have absolutely no chemistry together and the kissing scenes start one out the other error they made with this picture was not knowing what kind of movie they were making it is almost three separate movies there is the drama of julie as the german spy trying to get military secrets from rock there is an air war movie with lots of footage of wwi vintage planes about and there is the stupid attempts at humor that blake seems to think he has to insert in every one of his pictures whether it is appropriate or not in this case it was not the only truly redeeming qualities in this film are looking at the always lovely dame julie and hearing her sing in that crystal clear bell like soprano of course if you love her you may overlook the weaknesses of this film just because of her you can always tell yourself afterward that it was a hell of a lot better than sitting through star\n",
      "Sentiment: Negative\n",
      "Score: 0.38898637890815735\n",
      "\n",
      "\n",
      "\n"
     ]
    },
    {
     "name": "stdout",
     "output_type": "stream",
     "text": [
      "Review: i was pleasantly surprised to find this movie showing as a sneak preview in my local theater br br we have all seen this plot line before top gun jane an officer and a gentleman but a good script still works this story is basically about the training of a coast guard rescue team with a couple of side story lines kevin plays a highly successful rescue team leader ben randall who is forced into heading the training team after a tough mission the movie takes us through the of the training process and the personal stories of both the character and that of jake played by i am happy to say that is great in this part br br there are no great surprises in this movie and you will probably realize what is coming long before it arrives however the use of humor the exploration of the of the training and the fun of watching ben randall do his own thing as a kept me and thoroughly entertained i really enjoy watching a movie that makes the entire audience laugh out loud gasp here and there and at the end as a tribute to the movie br br we all had a good time despite a couple of tough moments in the movie and i think you will too\n",
      "Sentiment: Strongly Positive\n",
      "Score: 0.9937361478805542\n",
      "\n",
      "\n",
      "\n",
      "Review: an obvious vanity press for julie in her first movie with blake let's see where do we begin she is a during a world war she that by falling in great love her friends who are presumably because they are german citizens are and must die and she winds up as a heroine ok the scenes with the drunken pilot and the who work for french intelligence can't even be described and we won't even mention interesting romantic scenes with a female by the way when they visit a museum look at his i it on video and it's priceless is it a farce or is it a romantic classic or is it a war movie i love the cast and a great plot\n",
      "Sentiment: Strongly Positive\n",
      "Score: 0.959865391254425\n",
      "\n",
      "\n",
      "\n",
      "Review: i work at a movie theater and every night we have an employee screening of one movie that comes out the next day today it was the guardian i saw the trailers and the ads and never expected much from it and in no way really did i seeing this movie well turns out this movie was a lot more than i would have thought it was a great story first of all and kevin did amazing acting work in this film being a big fan of that 70's show i always found it hard thinking of as anyone but despite the great acting he did in the effect but after seeing this movie i think i might be able to finally look at him as a serious actor br br it was also a great tribute to the heroes of the u s coast guard\n",
      "Sentiment: Strongly Positive\n",
      "Score: 0.9875038266181946\n",
      "\n",
      "\n",
      "\n",
      "Review: some may go for a film like this but i most did not a college professor david suddenly gets a for he pretty much takes the first child offered a bad choice named adam as it turns out adam doesn't have both in the water which almost immediately causes stress and turmoil for dr this story played out with one problem after another all centered around and why wanted to his life with an unknown factor like an child was never explained along the way the good doctor managed to attract a to share in all the hell the little one was out personally i think both of them were one beer short of a this\n",
      "Sentiment: Negative\n",
      "Score: 0.2674863338470459\n",
      "\n",
      "\n",
      "\n",
      "Review: i attended an advance screening of this film not sure of what to expect from kevin and both have delivered less than memorable performances films while the underlying general storyline is somewhat familiar this film was excellent both and delivered powerful performances playing extremely well off each other the human and strengths of their respective characters were incredibly played by both the scene when confronts with the personal reasons why joined the coast guard rescue elite was the film's most unforgettable emotional moment the specific storyline was an education in itself depicting the personal sacrifice and demanding physical training the elite coast guard must go through in of their only job responsibility to save lives at sea the special effects of the rescue scenes were extremely realistic and i haven't seen such angry since the perfect storm co star brown great to see him again played the captain of the coast base in a strong convincing role as a leader with the and necessary ice water in his the film wonderfully and finally gives long exposure and respect to the coast guard it had the audience at the end\n",
      "Sentiment: Strongly Positive\n",
      "Score: 0.9989230036735535\n",
      "\n",
      "\n",
      "\n",
      "Review: as others that have commented around the web i'm a pilot in the coast guard having said that and being the i am i went expecting the over the top cheese factors there was some cheese but all in all not much and the film was pretty accurate br br i watched the trailer again today after seeing the film yesterday i've realized the trailer gives the impression the movie is nothing but rescue after rescue action scenes this isn't the case br br the movie is truly more character story driven than action the inner struggles both and are dealing with is revealed further into than movie than is br br of course there is a minor love story no surprise there but for the most part the movie tells the tale of two lives that come together and after some time help each other old wounds br br as as it sounds and as much as i try not to like him do actually work quite well together and compliment each other very well in the movie br br as critics have stated you've seen it all before top gun officer and a gentlemen etc but what movie hasn't been remade a million times br br i can recall only one f word being spoken and can't really recall any other language br br the movie is 2 hours and for some may tend to get a little long towards the end br br you'll laugh you may cry but i can honestly say it was worth the 4 i paid br br i hope you enjoy the movie\n",
      "Sentiment: Strongly Positive\n",
      "Score: 0.9875730276107788\n",
      "\n",
      "\n",
      "\n",
      "Review: few movies have expectations and upset me as much as fire has the movie is pretentious garbage it does not achieve anything at an artistic level the only thing it managed to receive is a in india if only it was because of the poor quality of film making rather than the controversy the would have been more br br now that i've got my distress out of my system i am more able to the movie br br from the the movie feels unreal especially when the protagonists start in english the director of course did not make the movie for an indian audience however it its international audiences by over it watching the character of the domestic help in perfect english is too unreal to be true br br next we get regular glimpses into dreams these scenes are not very effective they coming up as jarring and the flow of the movie i'm still wondering how that philosophical dialogue connected to the story i felt that the was lost br br the love scenes felt and are probably meant for audience rather than being a powerful statement in any case they do not achieve either of the two br br the names chosen for the women and are names of and hence been selected to shock the audiences however since the film wasn't meant for indian audiences in the first place the shock through name selection is not meant to achieve its goal which is absurd br br the quality of direction is very poor and some key and delicate scenes have been poorly handled a better director could have made a powerful emotional drama out of the subject br br the acting felt wooden although brought some life into the role the others were wasted i always thought that was a good actress but her talent is not evident in this film the male leads were outright rubbish br br in case you are a fan of earth and wish to see more of the director stay away from this one please\n",
      "Sentiment: Negative\n",
      "Score: 0.017722314223647118\n",
      "\n",
      "\n",
      "\n",
      "Review: for years i've been a big fan of work and old boy is one of my all times favorite br br with lots of expectation i rented this movie only to find the worst movie i've watched in awhile it's not a proper horror movie there's no suspense in it and even the light part is so lame that i didn't know whether to laugh or cry br br i introduced my younger brother to chan park and what a disappointment he got from this for me an idol has fallen br br if you loved movies like old boy the mr lady vengeance or even his short films on three extremes don't waste your time the film's not worth it\n",
      "Sentiment: Negative\n",
      "Score: 0.027608642354607582\n",
      "\n",
      "\n",
      "\n",
      "Review: i went to an advance screening of this movie thinking i was about to on minutes of lines mindless plot and the kind of acting that made the one of the most displays of cinematic of our time but i was shocked shocked to find a film starring that to the soul of the audience shocked that could act in such a serious role shocked that a film starring both actually engaged and captured my own emotions not since have i seen this full of depth and complex emotion seems to have the serious acting he played with in effect these two actors came into this film with a serious focused attitude that through in what i thought was one of the best films i've seen this year no its not an oscar worthy movie it's not an epic or a profound social commentary film rather its a story about a simple topic in a way that brings that audience to a higher level of empathy than thought possible that's what i think good film making is and i for one am impressed by this work bravo\n",
      "Sentiment: Okay\n",
      "Score: 0.5496762990951538\n",
      "\n",
      "\n",
      "\n",
      "Review: might end up being the biggest disappointment that i will see in 2009 i seem to be the rare person who disliked but i think that his lady vengeance and sympathy for mr vengeance are among the best films i've seen in the decade therefore i really was looking forward to see this especially as it got such positive reviews instead i found the film and broke little if any new ground to the vampire genre and while i can appreciate a bit of humor in movies like this i felt park did this at very times br br others have compared this to let the right one in and i have to say that let the right one in was far superior to this one and was a fresh take on the vampire genre sadly take was a tired one\n",
      "Sentiment: Negative\n",
      "Score: 0.18479524552822113\n",
      "\n",
      "\n",
      "\n",
      "Review: brilliant and moving performances by tom and peter\n",
      "Sentiment: Okay\n",
      "Score: 0.5825798511505127\n",
      "\n",
      "\n",
      "\n"
     ]
    },
    {
     "name": "stdout",
     "output_type": "stream",
     "text": [
      "Review: bloody birthday opens to a shot of general hospital there three babies are being born at precisely the same time during a total a informs us that it is now california june 1 two teenage lovers duke benson ben and annie smith hope are getting down to business in an open grave they hear noises and duke both duke and annie are murdered sheriff jim bert kramer is baffled and only has the handle of a child's skipping rope that annie was holding as a clue unfortunately before sheriff can solve the case his youngest daughter debbie elizabeth and two of her friends curtis taylor billy as billy and steven andy freeman murder him just as they are finishing sheriff off another young boy from their class named timmy k c turns up the three killers are unaware of how much he saw soon after the incident timmy plays with steven and curtis in a curtis locks timmy into an old locker timmy manages to escape and tell his sister but she doesn't believe him at first the three children carry on their murder spree their strict teacher miss davis susan a couple john and sylvia wright in a van and older sister beverly julie brown are among their victims begins to have her about debbie curtis and steven which makes her and timmy a target for the evil trio will they be able to convince the authorities that these three innocent looking 10 year olds are really killers br br co written and directed by ed hunt i have an intense dislike for this film i think it's absolutely awful and doesn't have a single enjoyable aspect to it's minute running time the script by hunt and barry gives us no explanation for the child killers motives beyond the that out and therefore for some bizarre reason these three children don't have any conscience so these are the only children ever born during a total if that is true why do they wait until just before their before starting their killing spree i guess it just suddenly kicks in right to it's credit it is reasonably well paced but i still found it incredibly boring and tedious to sit through the film as a whole is very and predictable the children are revealed as the killers within the first 10 minutes and as i've mentioned next to no motive is given it's very silly at times too check out the scene where debbie stops steven by throwing a bowl of water over him the death is put down to him falling down some steps yeah right the suffered from that type of accident aren't going to be the same as if your beaten to death with a baseball bat like he was in reality any competent doctor or would have spotted that within 5 seconds there isn't a single drop of blood in the entire film and all of the lame killings are dull and unimaginative there is some out of place looking nudity as debbie charges to let boys through a hole while her sister beverly there is an early scene just after the 5 minute mark when walks from the kitchen to the living room and the boom mike is clearly visible at the top of the screen not even a little bit of it the whole damn thing the general incompetence continues throughout the film the whole production is bland and instantly forgettable the acting is poor throughout those three kids are very annoying and got on my nerves right from the start and made sitting through this film even more of a chore especially curtis in his geeky over sized glasses i just hate this film really simple as that i can't think of a single good thing to say about it definitely one to avoid\n",
      "Sentiment: Negative\n",
      "Score: 0.028857987374067307\n",
      "\n",
      "\n",
      "\n",
      "Review: the is perhaps the most of films the film is with wit and spirit for the most part provided by the energetic character of norman tom although his character is clearly gay and certainly has an attraction for the lead performer albert finney that he the film never on it or makes it more than it is br br the gritty style of peter that worked so well in is again on display and gives the film a sense of realism and this is much appreciated in a story that could so easily have become tedious in the end the will bore many people silly but it will truly be a delight to those who love british cinema br br 7 7 out of 10\n",
      "Sentiment: Strongly Positive\n",
      "Score: 0.978008508682251\n",
      "\n",
      "\n",
      "\n",
      "Review: this movie cannot be serious because it has a nerdy looking kid named curtis killing people the other two psycho kids are kind of cute but that curtis kid is just so ugly because he wears these huge brown ugly glasses the actor probably on the wrong set and he was really supposed to go to revenge of the br br another thing that i hate so much about this movie is that curtis takes his sweet time shooting people i kept my finger on the fast forward button because he took too long and what was up with his voice he sounded like he was and not ten another thing i hated was that he kept smiling like an idiot and there was no point to that br br then they put that annoying kid in the and somehow he found a in there that didn't make any sense and neither did the music the music didn't fit any of the scenes br br this movie is slow boring and a waste of time watch a different movie on your birthday\n",
      "Sentiment: Negative\n",
      "Score: 0.01587752439081669\n",
      "\n",
      "\n",
      "\n",
      "Review: this is one of my three all time favorite movies my only is that the director peter had too many cuts showing the actors instead of together as a scene but the performances were so great i forgive him br br albert finney and tom are absolutely marvelous brilliant the script is great giving a very good picture of life in the theatre during world war ii and therefore what it was like in the 30s as well lots of great subtle touches lots of broad all of it perfectly done scene after scene just blows me away and then there's the heartbreaking climax\n",
      "Sentiment: Strongly Positive\n",
      "Score: 0.9923996329307556\n",
      "\n",
      "\n",
      "\n",
      "Review: my boyfriend and i went to watch the guardian at first i didn't want to watch it but i loved the movie it was definitely the best movie i have seen in sometime they portrayed the very well it really showed me what they do and i think they should really be appreciated more not only did it teach but it was a really good movie the movie shows what the really do and how hard the job is i think being a would be challenging and very scary it was a great movie all around i would suggest this movie for anyone to see the ending broke my heart but i know why he did it the storyline was great i give it 2 thumbs up i cried it was very emotional i would give it a 20 if i could\n",
      "Sentiment: Strongly Positive\n",
      "Score: 0.9927676916122437\n",
      "\n",
      "\n",
      "\n",
      "Review: this is a pale imitation of and a gentleman ' there is great chemistry between and the nice woman who plays his love interest the dialog is good the situations hackneyed it's too long and the climax is anti climactic i love the its men and women are and tough and good looking the action scenes are awesome but this movie doesn't do much for i fear character is trying to redeem himself for an accident that is well played i laughed a lot and it was a good time awesome\n",
      "Sentiment: Strongly Positive\n",
      "Score: 0.9222062826156616\n",
      "\n",
      "\n",
      "\n",
      "Review: a mean spirited repulsive horror film about 3 murderous children susan is totally wasted in a 5 minute cameo even though she receives star billing if your a julie brown fan you'll want to check it out since she's naked in a couple of shots all others avoid\n",
      "Sentiment: Negative\n",
      "Score: 0.1268727034330368\n",
      "\n",
      "\n",
      "\n",
      "Review: the many other comments about the film say it all just like to add that we showed it last week to around 30 at our community cinema and it got an overall average score of 8 6 we'd 100 recommend it then for today's audiences especially if they can see it on a real cinema screen and can talk about it with others afterwards as our audience did br br the sheer power of the acting performances by the whole was incredible and quite of course finney and were truly the stars but everybody was thoroughly well cast for our afternoon audience the majority of whom are senior citizens the fact that the plot could be followed with such ease because of the clarity of speech and the wonderful non use of camera and sound was a great influence br br how delightful many said to see a really great film that's british still not dated twenty years on not full filled with blood guts not confusing because of bob about all over the place camera shots and back and forth through time story lines no seedy sex scenes such views were even by some who were younger\n",
      "Sentiment: Strongly Positive\n",
      "Score: 0.999446451663971\n",
      "\n",
      "\n",
      "\n"
     ]
    },
    {
     "name": "stdout",
     "output_type": "stream",
     "text": [
      "Review: bloody birthday is a totally rubbish slasher movie from beginning to end br br i found the acting to be pretty good considering the genre of movie and its obvious low budget i don't know what was going on with the cinematography but it looked ghastly way too over maybe this is a bad transfer to dvd or maybe it always looked like that i don't know br br there really are no redeeming qualities to speak of there are a few deaths but not really gory i wouldn't bother with it if i was you the best thing about the dvd was the 15 minute interview with producer max who was very amusing and honest he didn't have anything good to say about director ed hunt and admits the movie was a failure but he would like to re make it as he believes it has a decent plot however he died in 2004 so i guess it will be up to someone else to take on that challenge with the way things have been going in the last few years it wouldn't surprise me there's at least one re make per week at the cinema these day it couldn't be any worse than the original i suppose but i couldn't care less whether it got re made or not\n",
      "Sentiment: Negative\n",
      "Score: 0.01199790183454752\n",
      "\n",
      "\n",
      "\n",
      "Review: the is a small but absolutely wonderful film brilliantly acted by albert finney and tom how in the world this tiny film attracted enough attention to garner five major academy award nominations back in 1983 is a mystery to me but it's nice to know the academy can be guilty of a display of good taste every once in a while of course they gave the award that year to terms of after all they don't want to be accused of showing too much taste br br albert finney is a drunken shakespearean actor in a production of king tom is the man who works double time behind the scenes to keep this actor in front of the it's both hilarious and to see character with attention and affection only to see his efforts utterly and even up to the very bitter end finney and work wonders together and though finney gets the moments he does get to shakespeare after all is the heart and soul of the film br br grade a\n",
      "Sentiment: Strongly Positive\n",
      "Score: 0.9948863387107849\n",
      "\n",
      "\n",
      "\n",
      "Review: when you make a film with a killer kids premise there are two effective ways to approach it you can either make it as realistic as possible creating believable characters and situations or you can make it as fun as possible by playing it for laughs something which the makers of silent night deadly night did for example on an equally controversial subject a killer santa the people who made bloody birthday however do neither of those things they simply rely on the shock value of the image of a kid with a gun or a knife or a or an arrow in his her hand the result is both offensive and stupid the whole film looks like a bad idea that was rushed through production and then kept from release for several years it's redeemed a tiny bit by good performances from the kids but it's very made 1 2\n",
      "Sentiment: Negative\n",
      "Score: 0.025859279558062553\n",
      "\n",
      "\n",
      "\n",
      "Review: when people say children are annoying u think ya my little cousins can be annoying and i said little these children are turning 10 and they are without a doubt the most annoying children you will ever encounter in a film lets start with the blonde debbie she's a slut of a girl i mean come on she wears mini she has stupid blonde hair and a red bunny like face she acts so innocent next we have the second child the geek who thinks he's so cool with his long range shooting and his use of a a coat over the gun and most of all his evil smile the next kid is the quiet one you don't care about so thats all on him this film me at the children's intelligence and the only enjoyment i got was from my cousin who kept about them\n",
      "Sentiment: Negative\n",
      "Score: 0.1371823400259018\n",
      "\n",
      "\n",
      "\n",
      "Review: it seems ever since 1982 about every two or three years we get a movie that claims to be the next officer and a gentleman there has yet to be one movie that has lived up to this claim and this movie is no different br br we get the usual ripped off scenes from i want you the gives the richard gere character his of in hopes he'll quit the gere character comes back for the girl the gere character realizes the is great etc and this movie is as predictable as the sun rising in the east and is horribly miscast on top plays his usual wise teacher character the only character he can play and you really get a sense of his limited acting abilities here is terrible in the richard gere character just miscast with acting skills barely a notch above keanu reeves br br the main problem with this wannabe is the two main characters are so amazingly one dimensional you never care for either in the least and when character finally turns around just like gere did in you just go so what the movie leaves no plot point and seems to never end as if to say oh wait we forgot to close out the girlfriend story or the what happens after he story or the other six plot points in the movie what's more is the great reviews i see here the general opinions never to me\n",
      "Sentiment: Negative\n",
      "Score: 0.037102725356817245\n",
      "\n",
      "\n",
      "\n",
      "Review: my for a movie's watch ability is if i get if i start shifting positions and my butt is sore the film is too long this movie did not even come close to being boring predictable in some parts sure but never boring br br all of the other military have had love notes written about them and seen their levels go up why not the coast guard too they are definitely under appreciated until the day your boat sinks that is br br the movie was very enjoyable and fun kevin is perfect as the aging macho man who doesn't know when to quit however i was most impressed by performance i have never liked him never watched any of his tv shows and always considered him an immature well punk in this film he does a great job he is well on his way to having leading man status i think the film we were shown must have been an advance rough cut or something because about 2 3 of the way in the film stock turned very grainy the sound level dropped and were seen dropping down all over the place also at the viewing were from the movie looking for audience particularly on the parts of the film we didn't like br br possible spoiler the i gave concerned a a couple of lines in the beginning kevin comes home to see his wife ward her stuff up and moving out he says maybe i should be the one to move out and she replies no you don't know where anything is in this house i should be the one to go this doesn't make sense if she knows the so well is right he should be the one to leave\n",
      "Sentiment: Strongly Positive\n",
      "Score: 0.9074806571006775\n",
      "\n",
      "\n",
      "\n",
      "Review: wow another kevin hero movie tin cup bodyguard robin hood even that baseball movie seems like he makes movies specifically to be the center of attention the characters are almost always the same the the flaws the greatness the fall the redemption within the 1st 5 minutes of the movie we're all supposed to be in awe of his character and it builds up more and more from there br br and this time the story story is just a of different movies you don't need a spoiler you've seen this movie several times though it had different titles you'll know what will happen way before it happens this is like mixing an officer and a gentleman with but both are easily better movies watch to see how this kind of movie should be made and also to see how an good but slightly underrated actor russell plays the hero\n",
      "Sentiment: Negative\n",
      "Score: 0.4197451174259186\n",
      "\n",
      "\n",
      "\n",
      "Review: how many movies are there that you can think of when you see a movie like this i can't count them but it sure seemed like the movie makers were trying to give me a hint i was reminded so often of other movies it became a big distraction one of the borrowed memorable lines came from a movie from 2003 day after tomorrow one line by itself is not so bad but this movie borrows so much from so many movies it becomes a bad risk br br but br br see the movie despite its there is enough to make it interesting and maybe make it appear clever while so much from other movies it never goes overboard in fact you'll probably find yourself down the and riding the storm out why and played their characters very well i have never been a fan of and i nearly gave up on him in the guardian but he in good fashion carries the movie with the best of ability i don't think mrs robinson had anything to do with his success br br the supporting cast all around played their parts well i had no problem with any of them in the end but some of these characters were used too much br br from here on out i can only pick so i will save you the wear and tear enjoy the movie the parts that work work well enough to keep your head above water just don't expect a smooth ride br br 7 of 10 but almost a 6\n",
      "Sentiment: Negative\n",
      "Score: 0.20296114683151245\n",
      "\n",
      "\n",
      "\n",
      "Review: this movie was sadly under promoted but proved to be truly exceptional entering the theatre i knew nothing about the film except that a friend wanted to see it br br i was caught off guard with the high quality of the film i couldn't image in a serious role but his performance truly his character this movie is exceptional and deserves our support unlike so many other movies it does not come lightly for me to recommend any movie but in this case i highly recommend that everyone see it br br this films is truly exceptional\n",
      "Sentiment: Positive\n",
      "Score: 0.7793976664543152\n",
      "\n",
      "\n",
      "\n",
      "Review: alas another movie that was an hour too long credible performances but the script had no where to go and was in no hurry to get there first we are offered an unrelated string of events few of which further the story will the script center on randall and his wife randall and how about and thomas in the end no real front story ever develops and the characters themselves are up by monologues from third parties the singer explains randall randall explains on and on finally long after you don't care anymore you will learn something about the script three endings were no doubt and no one could make a decision the end result all three were used one after another after another if you can hang in past the yawn you'll be able to pick them out despite the transparent attempt to gain points with a dedication to the coast guard this one should have washed out the very first day\n",
      "Sentiment: Negative\n"
     ]
    },
    {
     "name": "stdout",
     "output_type": "stream",
     "text": [
      "Score: 0.1354832947254181\n",
      "\n",
      "\n",
      "\n",
      "Review: i wish i knew what to make of a movie like this it seems to be divided into two parts action sequences and personal dramas it follows through survival school guided by master chief kevin then to where a couple of spectacular take place the last resulting in death br br i must say that the scenes on the beach struck me as so stereotypical in so many ways that they should be a typical bar room fight between navy guys and coast pirates the experienced old who is as an elderly bar tender tells him married to the coast guard the older chief who keeps trying to prove to himself that he's still the neglected ex wife to whom pays a farewell visit the seemingly sadistic demands placed on the by the all in pursuit of a goal the gifted young man by a troubled past br br the problem is that we've seen it all before if it's kevin here it's clint eastwood or john wayne or lou jr or or robert deniro elsewhere and the climactic scene has elements drawn shamelessly from the perfect storm and dead calm none of it is fresh and none of the old stereotyped characters and situations are handled with any originality br br it works best as a kind of documentary of what goes on in the school and what could happen afterward and even that's a little weak because we don't get much in the way of it's mostly personal conflict romance and tension about washing out br br it's a shame because the u s coast guard is rather a noble outfit its official mission being the safety of lives and property at sea in war time it is transferred to the navy department and serves in combat roles in world war ii the coast guard even managed to have a of honor winner in its ranks br br but again we don't learn much about that we don't really learn much about anything the film into a succession of visual displays and not too much else a disappointment\n",
      "Sentiment: Strongly Positive\n",
      "Score: 0.9933251738548279\n",
      "\n",
      "\n",
      "\n",
      "Review: i only went to see this movie because i have always liked kevin i felt that did a great job in the effect unfortunately even though these two actors were are capable of good if not great acting moments some of that was missing here some of the scenes were just not believable and didn't have enough story line support br br though the movie claims influence from the aftermath there was very little none to that effect in the movie br br overall i liked the fact that the movie brought forward some of what goes into saving lives from a water perspective br br the special effects were pretty good and more than a little not sure i'll ever go deep sea fishing again br br i expected a little more emotion in the film than what was presented br br definitely a movie that could've been seen on dvd\n",
      "Sentiment: Positive\n",
      "Score: 0.8268113732337952\n",
      "\n",
      "\n",
      "\n",
      "Review: a tough sell british playwright ronald his stage drama into loud film about wwii shakespearean theatrical with an aged brilliant but star at the end of his the actor's assistant works to get his master and for a production of king during an air raid yet both men are losing their grip on their situation based on the years of actor donald whose was ronald this acclaimed production would seem to be a welcome for scenery chewing unfortunately albert finney at this point in his career not at all elderly seems too and quick thinking to play the actor finney and oscar nominated director peter cannot and of in a way that makes sense to us so that in one scene he's stopping a train with the commanding echo of his voice and in the next he's curiously falling apart with such a wreck of a human being in the midst of failing health and one would assume a dedicated assistant would go to great to protect his boss and his future yet servant tom and and finney to carry on rather than rest who played this part on stage and was nominated for an oscar alongside finney for best actor is far more to his role and eventually his and confusion achieve the only real feeling in the film these two thankfully do not peck at each other's heads and is careful not to fall into a love hate pattern which could possibly be perceived in the film's first act but without a of servant vs celebrity there's nothing much to behold in this portrait except for the of the hint at what once was 1 2 from\n",
      "Sentiment: Strongly Positive\n",
      "Score: 0.9728075265884399\n",
      "\n",
      "\n",
      "\n",
      "Review: i was fortunate enough to see this movie on pre release last night and though i wasn't expecting to actually really enjoyed the movie for the most part the and sea effects were amazing to watch and definitely provided edge of the seat tense moments probably all the more so knowing that there are guys who do this for a living the weaker parts of the movie largely around using stereotypical set scenes i'm not going to spoil the movie but this really follows along the lines of an officer and a gentleman and those moments give it a little bit of a cheesy br br like i said over all this movie is pretty good and worth checking out as long as you can get past the\n",
      "Sentiment: Strongly Positive\n",
      "Score: 0.9863268136978149\n",
      "\n",
      "\n",
      "\n",
      "Review: blake legendary fiasco begins to seem pointless after just 10 minutes a combination of the eagle has landed star oh what a lovely war and pink films darling never the viewer the sequences the musical numbers the romance the comedy and the espionage are all ho hum at what point is the viewer supposed to give a damn this disaster in tone never decides what it wants to be and apparently thinks it's a spoof but it's and square old fashioned in the worst sense audiences understandably stayed away in it's awful james garner would have been a vast improvement over hudson who is just cardboard and he doesn't connect with andrews and vice versa and both andrews and hudson don't seem to have been let in on the joke and perform with a blake isn't much more than ok but it's the only good that ever came out of darling the expensive and professional look of much of darling only make what it's all on even more difficult to bear to quote paramount chief robert evans 24 million dollars worth of film and no picture\n",
      "Sentiment: Negative\n",
      "Score: 0.014993635006248951\n",
      "\n",
      "\n",
      "\n",
      "Review: our family and the entire sold out sneak preview audience enjoyed the guardian kevin and gave convincing and good performances as the fictional helicopter rescue characters ben and jake after seeing this movie you can't help but imagine how difficult it must be to graduate from the helicopter rescue school and one day take part in real br br even though this is a fictional movie it delivered rather convincing good virtues of team spirit dedication and bravery by all the members of the actual u s coast guard br br the special effects used to create the rescue scenes were incredible you actually felt like you were taking part in a real rescue br br i feel the movie could have been made without the hollywood bar scene when you see the movie you might agree since the real coast guard does not such behavior br br very entertaining very action packed definitely worth seeing thank you u s coast guard and the real helicopter rescue so others may live i'd highly recommend this fantastic movie to everyone\n",
      "Sentiment: Okay\n",
      "Score: 0.5796442627906799\n",
      "\n",
      "\n",
      "\n",
      "Review: i'm not a big fan of musicals although this technically might not qualify as a musical but i thought i would give it a chance as i love war movies it was mediocre at best br br hudson seems totally out of in this role it just didn't work for me julie andrews probably played her part as best as she could but i just find it hard to buy her as a conniving spy sorry i know that is classic stereotyping on my part but i have to say i think this is julie at her most beautiful and feminine looking i always thought of her as more but then surely that's a result of her roles in sound of music and mary no doubt they were desperately trying to get her out of that in this role she was quite in appearance here but i still didn't buy her as a spy br br i couldn't keep my focus through the whole movie and found myself in and out and having conversations with those in my room which i usually never do i'm always everybody so that tells you how little it held my attention don't waste your time\n",
      "Sentiment: Okay\n",
      "Score: 0.6862459182739258\n",
      "\n",
      "\n",
      "\n",
      "Review: i'm a petty officer 1st class e 6 and have been in the for 6 years and feel that this movie strongly represents the coast guard there were only a few scenes that were far fetched the most far fetched was when went down inside of the sinking to pull the captain out of the engine room that would never happen are not allowed to go inside of any no matter the circumstances second the command center supposedly in it looked more like a command center we don't have any gear that hi tech third the captain of the would not be running the search rescue cases with like 10 people on watch in reality it would be an e 6 or e 7 as the and maybe 2 other support like an assist a radio otherwise the movie was dead on i think they should have more of the other rates in the cg and their roles in search rescue instead of just based rates some of the scenes from a school reminded me of my days their and the dumb stuff i did and got in trouble for in my younger days\n",
      "Sentiment: Negative\n",
      "Score: 0.32761189341545105\n",
      "\n",
      "\n",
      "\n",
      "Review: david comments nearby are exceptionally well written and informative as almost say everything i feel about darling this massive musical is so peculiar and over blown over produced and must have caused at paramount in 1970 it cost 22 million dollars that is simply irresponsible darling must have been from a board meeting that said hey we got that pink guy and that sound of music gal lets get this too and handed over a blank the result is a hybrid of half a some mgm 40s song and dance numbers of a style daisies and so hopelessly old fashioned as to be like musical and the production is lush breathtaking to view but the rest the ridiculous romance julie looking hudson already dead the comedy and the boring songs this spectacular film into being irritating is like a 1940s mega musical with some vulgar bits to spice it up star released the year before sadly crashed and now is being finally appreciated for the excellent film is genuinely is and andrews looks sublime mature especially in the last half hour but is and and i believe really killed off the mega musical of the 60s and made andrews look like again which i believe was not intention paramount must have when they saw this and with another 20 million in catch 22 and 12 million in on a clear day and 25 million in paint your they had a financial of proportions with million tied into 4 films with very uncertain maybe they should have asked daisy from on a clear day was very popular on immediate first release in australia and ran in cinemas for months but it failed once out in the and the sticks and only ever after that on one night stands with on a clear day as a sunday night double thank god paramount had their simple yes one million dollar film love story and that 4 million dollar gangster the godfather also ready to recover all the million in just the next two years for just incredible\n",
      "Sentiment: Okay\n",
      "Score: 0.6576500535011292\n",
      "\n",
      "\n",
      "\n",
      "Review: i've seen this story before but my kids haven't boy with troubled past joins military faces his past falls in love and becomes a man the mentor this time is played perfectly by kevin an ordinary man with common everyday problems who lives an extraordinary conviction to save lives after losing his team he takes a teaching position training the next generation of heroes the young troubled is played by while his scenes with the local love interest are a tad stiff and don't generate enough heat to melt he well i never really understood ward as the neglected wife and felt she should of wanted to quit out of concern for his safety as opposed to her selfish needs but her presence on screen is a pleasure the two stars of this movie are the coast guard and the sea both powerful forces which should not be taken for granted in real life or this movie the movie has some slow spots and could have used the wasted 15 minutes to the character relationships but it still works the rescue scenes are intense and well filmed and edited to provide maximum impact this movie earns the audience applause and the applause of my two sons\n",
      "Sentiment: Strongly Positive\n",
      "Score: 0.945008397102356\n",
      "\n",
      "\n",
      "\n"
     ]
    }
   ],
   "source": [
    "\"\"\"We can then go ahead and test the score review method by using sample data available in the test_dir\n",
    "repository using the following code:\"\"\"\n",
    "\n",
    "score=score_review('test/', file_type='dir')\n"
   ]
  },
  {
   "cell_type": "code",
   "execution_count": 19,
   "metadata": {},
   "outputs": [
    {
     "data": {
      "text/plain": [
       "[0.9921481,\n",
       " 0.58257985,\n",
       " 0.20175222,\n",
       " 0.88790417,\n",
       " 0.6707107,\n",
       " 0.7579041,\n",
       " 0.38898638,\n",
       " 0.99373615,\n",
       " 0.9598654,\n",
       " 0.9875038,\n",
       " 0.26748633,\n",
       " 0.998923,\n",
       " 0.987573,\n",
       " 0.017722314,\n",
       " 0.027608642,\n",
       " 0.5496763,\n",
       " 0.18479525,\n",
       " 0.58257985,\n",
       " 0.028857987,\n",
       " 0.9780085,\n",
       " 0.015877524,\n",
       " 0.99239963,\n",
       " 0.9927677,\n",
       " 0.9222063,\n",
       " 0.1268727,\n",
       " 0.99944645,\n",
       " 0.011997902,\n",
       " 0.99488634,\n",
       " 0.02585928,\n",
       " 0.13718234,\n",
       " 0.037102725,\n",
       " 0.90748066,\n",
       " 0.41974512,\n",
       " 0.20296115,\n",
       " 0.77939767,\n",
       " 0.1354833,\n",
       " 0.9933252,\n",
       " 0.8268114,\n",
       " 0.9728075,\n",
       " 0.9863268,\n",
       " 0.014993635,\n",
       " 0.57964426,\n",
       " 0.6862459,\n",
       " 0.3276119,\n",
       " 0.65765005,\n",
       " 0.9450084]"
      ]
     },
     "execution_count": 19,
     "metadata": {},
     "output_type": "execute_result"
    }
   ],
   "source": [
    "score"
   ]
  },
  {
   "cell_type": "code",
   "execution_count": 20,
   "metadata": {},
   "outputs": [
    {
     "name": "stdout",
     "output_type": "stream",
     "text": [
      "[0.9921481, 0.58257985, 0.20175222, 0.88790417, 0.6707107, 0.7579041, 0.38898638, 0.99373615, 0.9598654, 0.9875038, 0.26748633, 0.998923, 0.987573, 0.017722314, 0.027608642, 0.5496763, 0.18479525, 0.58257985, 0.028857987, 0.9780085, 0.015877524, 0.99239963, 0.9927677, 0.9222063, 0.1268727, 0.99944645, 0.011997902, 0.99488634, 0.02585928, 0.13718234, 0.037102725, 0.90748066, 0.41974512, 0.20296115, 0.77939767, 0.1354833, 0.9933252, 0.8268114, 0.9728075, 0.9863268, 0.014993635, 0.57964426, 0.6862459, 0.3276119, 0.65765005, 0.9450084]\n"
     ]
    },
    {
     "data": {
      "text/plain": [
       "<BarContainer object of 46 artists>"
      ]
     },
     "execution_count": 20,
     "metadata": {},
     "output_type": "execute_result"
    },
    {
     "data": {
      "image/png": "[encoded data removed]",
      "text/plain": [
       "<Figure size 432x288 with 1 Axes>"
      ]
     },
     "metadata": {
      "needs_background": "light"
     },
     "output_type": "display_data"
    }
   ],
   "source": [
    "def ScorePosNegGet(score):\n",
    "    retScore=None\n",
    "    if float(score) >= 0.7:\n",
    "        #print('Review: {}\\nSentiment: Strongly Positive\\nScore: {}'.format(decoded_review, score))\n",
    "        retScore=1.\n",
    "    elif float(score)>=0.5 and float(score)<0.7:\n",
    "        #print('Review: {}\\nSentiment: Okay\\nScore: {}'.format(decoded_review, score))\n",
    "        retScore=0.\n",
    "    else:\n",
    "        retScore=-1.\n",
    "        #print('Review: {}\\nSentiment: Negative\\nScore: {}'.format(decoded_review, score))\n",
    "    #print('\\n\\n')\n",
    "    return retScore\n",
    "\n",
    "print(score)\n",
    "\n",
    "y=scoresPosNeg=[ScorePosNegGet(i) for i in score]\n",
    "x=posPosNeg=[i for i in range(len(score))]\n",
    "aa=list(enumerate(scoresPosNeg))\n",
    "\n",
    "plt.bar(x,y)"
   ]
  },
  {
   "cell_type": "raw",
   "metadata": {},
   "source": [
    "print(aa[0])"
   ]
  },
  {
   "cell_type": "code",
   "execution_count": 21,
   "metadata": {},
   "outputs": [
    {
     "name": "stdout",
     "output_type": "stream",
     "text": [
      "Positive: 28 negative: 18\n"
     ]
    },
    {
     "data": {
      "image/png": "[encoded data removed]",
      "text/plain": [
       "<Figure size 432x288 with 1 Axes>"
      ]
     },
     "metadata": {},
     "output_type": "display_data"
    }
   ],
   "source": [
    "import matplotlib.pyplot as plt\n",
    "p_s=0\n",
    "n_s=0\n",
    "\n",
    "for i in score:\n",
    "    if float(i) > 0.51:\n",
    "        p_s = p_s + 1\n",
    "        \n",
    "    elif float(i) <= 0.51:\n",
    "        n_s = n_s + 1\n",
    "    else:\n",
    "        print(\"error reading\")\n",
    "\n",
    "\n",
    "print(\"Positive: {} negative: {}\" .format(p_s, n_s))\n",
    "\n",
    "# Pie chart, where the slices will be ordered and plotted counter-clockwise:\n",
    "labels = 'Pos', 'Neg'\n",
    "#sizes = [15, 30, 45, 10]\n",
    "#sizes = [15, 85]\n",
    "sizes = [p_s, n_s]\n",
    "\n",
    "explode = (0, 0.1)  # only \"explode\" the 2nd slice (i.e. 'Neg')\n",
    "\n",
    "fig1, ax1 = plt.subplots()\n",
    "ax1.pie(sizes, explode=explode, labels=labels, autopct='%1.1f%%',\n",
    "        shadow=True, startangle=90)\n",
    "ax1.axis('equal')  # Equal aspect ratio ensures that pie is drawn as a circle.\n",
    "\n",
    "plt.show()"
   ]
  },
  {
   "cell_type": "code",
   "execution_count": null,
   "metadata": {},
   "outputs": [],
   "source": []
  }
 ],
 "metadata": {
  "kernelspec": {
   "display_name": "Python 3",
   "language": "python",
   "name": "python3"
  },
  "language_info": {
   "codemirror_mode": {
    "name": "ipython",
    "version": 3
   },
   "file_extension": ".py",
   "mimetype": "text/x-python",
   "name": "python",
   "nbconvert_exporter": "python",
   "pygments_lexer": "ipython3",
   "version": "3.7.4"
  }
 },
 "nbformat": 4,
 "nbformat_minor": 4
}
